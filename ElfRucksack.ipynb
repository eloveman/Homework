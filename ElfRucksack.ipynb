{
  "nbformat": 4,
  "nbformat_minor": 0,
  "metadata": {
    "colab": {
      "provenance": []
    },
    "kernelspec": {
      "name": "python3",
      "display_name": "Python 3"
    },
    "language_info": {
      "name": "python"
    }
  },
  "cells": [
    {
      "cell_type": "code",
      "source": [
        "def calculate_priority(item):\n",
        "    if 'a' <= item <= 'z':\n",
        "        return ord(item) - ord('a') + 1\n",
        "    elif 'A' <= item <= 'Z':\n",
        "        return ord(item) - ord('A') + 27\n",
        "    else:\n",
        "        return 0\n",
        "\n",
        "def find_common_item_type(contents):\n",
        "    half_length = len(contents) // 2\n",
        "    first_compartment = set(contents[:half_length])\n",
        "    second_compartment = set(contents[half_length:])\n",
        "    common_items = first_compartment.intersection(second_compartment)\n",
        "    return common_items\n",
        "\n",
        "def find_badge_item(group_lines):\n",
        "    min_length = min(len(group_lines[0]), len(group_lines[1]), len(group_lines[2]))\n",
        "    badge_item = None\n",
        "    for j in range(min_length):\n",
        "        items = [group_lines[0][j], group_lines[1][j], group_lines[2][j]]\n",
        "        if items.count(items[0]) == 3:\n",
        "            badge_item = items[0]\n",
        "            break\n",
        "    return badge_item\n",
        "\n",
        "def main():\n",
        "    with open(\"rucksack-input\", \"r\") as file:\n",
        "        lines = file.read().strip().split('\\n')\n",
        "\n",
        "    total_priority_part1 = 0\n",
        "    total_priority_part2 = 0\n",
        "\n",
        "    for i in range(0, len(lines), 3):\n",
        "        group_lines = lines[i:i + 3]\n",
        "        group_contents = ''.join([group_lines[j][:len(group_lines[0])] for j in range(3)])\n",
        "        common_item = find_common_item_type(group_contents)\n",
        "\n",
        "        if common_item:\n",
        "            group_priority_part1 = calculate_priority(common_item.pop())\n",
        "            total_priority_part1 += group_priority_part1\n",
        "\n",
        "        badge_item = find_badge_item(group_lines)\n",
        "\n",
        "        if badge_item:\n",
        "            group_priority_part2 = calculate_priority(badge_item)\n",
        "            total_priority_part2 += group_priority_part2\n",
        "\n",
        "    print(\"1 :\", total_priority_part1)\n",
        "    print(\"2 :\", total_priority_part2)\n",
        "\n",
        "if __name__ == \"__main__\":\n",
        "    main()\n"
      ],
      "metadata": {
        "colab": {
          "base_uri": "https://localhost:8080/"
        },
        "id": "nnI1_f62pks6",
        "outputId": "2c89e4ae-8d74-43db-e56d-e491deff2554"
      },
      "execution_count": 3,
      "outputs": [
        {
          "output_type": "stream",
          "name": "stdout",
          "text": [
            "1 : 3179\n",
            "2 : 0\n"
          ]
        }
      ]
    }
  ]
}
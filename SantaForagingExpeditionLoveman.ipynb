{
  "nbformat": 4,
  "nbformat_minor": 0,
  "metadata": {
    "colab": {
      "provenance": []
    },
    "kernelspec": {
      "name": "python3",
      "display_name": "Python 3"
    },
    "language_info": {
      "name": "python"
    }
  },
  "cells": [
    {
      "cell_type": "code",
      "source": [
        "def read_input(file_name):\n",
        "    with open(file_name, \"r\") as file:\n",
        "        lines = file.read().split('\\n\\n')\n",
        "    return [[int(calorie) for calorie in group.split('\\n') if calorie] for group in lines]\n",
        "\n",
        "def calculate_total_calories(elf_calories):\n",
        "    max_calories_elf = max(elf_calories, key=sum)\n",
        "    return sum(max_calories_elf)\n",
        "\n",
        "def calculate_total_calories_top_3(elf_calories):\n",
        "    top_3_elves = sorted(elf_calories, key=sum, reverse=True)[:3]\n",
        "    return sum(map(sum, top_3_elves))\n",
        "\n",
        "def main():\n",
        "    input_file = \"09-25_input-1\"\n",
        "    elf_calories = read_input(input_file)\n",
        "\n",
        "    max_calories_part1 = calculate_total_calories(elf_calories)\n",
        "    print(\"Total calories carried by the elf with the most calories:\", max_calories_part1)\n",
        "\n",
        "    max_calories_part2 = calculate_total_calories_top_3(elf_calories)\n",
        "    print(\"Total calories carried by the top 3 elves:\", max_calories_part2)\n",
        "\n",
        "if __name__ == \"__main__\":\n",
        "    main()\n"
      ],
      "metadata": {
        "colab": {
          "base_uri": "https://localhost:8080/"
        },
        "id": "oAI7fOQgF-DE",
        "outputId": "b8dba967-4883-4c4a-e88b-62c59752d10a"
      },
      "execution_count": 5,
      "outputs": [
        {
          "output_type": "stream",
          "name": "stdout",
          "text": [
            "Total calories carried by the elf with the most calories: 70369\n",
            "Total calories carried by the top 3 elves: 203002\n"
          ]
        }
      ]
    }
  ]
}